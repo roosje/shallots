{
 "metadata": {
  "name": "",
  "signature": "sha256:59062800078f529d7a81a57a03e860a1919bedb5b2f9cc8b90ed92c122893f8b"
 },
 "nbformat": 3,
 "nbformat_minor": 0,
 "worksheets": [
  {
   "cells": [
    {
     "cell_type": "code",
     "collapsed": false,
     "input": [
      "import geograpy\n",
      "import glob\n",
      "import requests\n",
      "\n",
      "url = 'http://www.bbc.com/news/world-europe-26919928'\n",
      "places = geograpy.get_place_context(url=url)\n",
      "print places.countries\n",
      "print places.regions\n",
      "print places.cities\n",
      "print places.other\n",
      "\n"
     ],
     "language": "python",
     "metadata": {},
     "outputs": [
      {
       "ename": "NotImplementedError",
       "evalue": "Use label() to access a node label.",
       "output_type": "pyerr",
       "traceback": [
        "\u001b[0;31m---------------------------------------------------------------------------\u001b[0m\n\u001b[0;31mNotImplementedError\u001b[0m                       Traceback (most recent call last)",
        "\u001b[0;32m<ipython-input-34-925a898e811f>\u001b[0m in \u001b[0;36m<module>\u001b[0;34m()\u001b[0m\n\u001b[1;32m      4\u001b[0m \u001b[0;34m\u001b[0m\u001b[0m\n\u001b[1;32m      5\u001b[0m \u001b[0murl\u001b[0m \u001b[0;34m=\u001b[0m \u001b[0;34m'http://www.bbc.com/news/world-europe-26919928'\u001b[0m\u001b[0;34m\u001b[0m\u001b[0m\n\u001b[0;32m----> 6\u001b[0;31m \u001b[0mplaces\u001b[0m \u001b[0;34m=\u001b[0m \u001b[0mgeograpy\u001b[0m\u001b[0;34m.\u001b[0m\u001b[0mget_place_context\u001b[0m\u001b[0;34m(\u001b[0m\u001b[0murl\u001b[0m\u001b[0;34m=\u001b[0m\u001b[0murl\u001b[0m\u001b[0;34m)\u001b[0m\u001b[0;34m\u001b[0m\u001b[0m\n\u001b[0m\u001b[1;32m      7\u001b[0m \u001b[0;32mprint\u001b[0m \u001b[0mplaces\u001b[0m\u001b[0;34m.\u001b[0m\u001b[0mcountries\u001b[0m\u001b[0;34m\u001b[0m\u001b[0m\n\u001b[1;32m      8\u001b[0m \u001b[0;32mprint\u001b[0m \u001b[0mplaces\u001b[0m\u001b[0;34m.\u001b[0m\u001b[0mregions\u001b[0m\u001b[0;34m\u001b[0m\u001b[0m\n",
        "\u001b[0;32m/Users/datascientist/anaconda/lib/python2.7/site-packages/geograpy/__init__.pyc\u001b[0m in \u001b[0;36mget_place_context\u001b[0;34m(url, text)\u001b[0m\n\u001b[1;32m      4\u001b[0m \u001b[0;32mdef\u001b[0m \u001b[0mget_place_context\u001b[0m\u001b[0;34m(\u001b[0m\u001b[0murl\u001b[0m\u001b[0;34m=\u001b[0m\u001b[0mNone\u001b[0m\u001b[0;34m,\u001b[0m \u001b[0mtext\u001b[0m\u001b[0;34m=\u001b[0m\u001b[0mNone\u001b[0m\u001b[0;34m)\u001b[0m\u001b[0;34m:\u001b[0m\u001b[0;34m\u001b[0m\u001b[0m\n\u001b[1;32m      5\u001b[0m     \u001b[0me\u001b[0m \u001b[0;34m=\u001b[0m \u001b[0mExtractor\u001b[0m\u001b[0;34m(\u001b[0m\u001b[0murl\u001b[0m\u001b[0;34m=\u001b[0m\u001b[0murl\u001b[0m\u001b[0;34m,\u001b[0m \u001b[0mtext\u001b[0m\u001b[0;34m=\u001b[0m\u001b[0mtext\u001b[0m\u001b[0;34m)\u001b[0m\u001b[0;34m\u001b[0m\u001b[0m\n\u001b[0;32m----> 6\u001b[0;31m     \u001b[0me\u001b[0m\u001b[0;34m.\u001b[0m\u001b[0mfind_entities\u001b[0m\u001b[0;34m(\u001b[0m\u001b[0;34m)\u001b[0m\u001b[0;34m\u001b[0m\u001b[0m\n\u001b[0m\u001b[1;32m      7\u001b[0m \u001b[0;34m\u001b[0m\u001b[0m\n\u001b[1;32m      8\u001b[0m     \u001b[0mpc\u001b[0m \u001b[0;34m=\u001b[0m \u001b[0mPlaceContext\u001b[0m\u001b[0;34m(\u001b[0m\u001b[0me\u001b[0m\u001b[0;34m.\u001b[0m\u001b[0mplaces\u001b[0m\u001b[0;34m)\u001b[0m\u001b[0;34m\u001b[0m\u001b[0m\n",
        "\u001b[0;32m/Users/datascientist/anaconda/lib/python2.7/site-packages/geograpy/extraction.pyc\u001b[0m in \u001b[0;36mfind_entities\u001b[0;34m(self)\u001b[0m\n\u001b[1;32m     29\u001b[0m         \u001b[0;32mfor\u001b[0m \u001b[0mne\u001b[0m \u001b[0;32min\u001b[0m \u001b[0mnes\u001b[0m\u001b[0;34m:\u001b[0m\u001b[0;34m\u001b[0m\u001b[0m\n\u001b[1;32m     30\u001b[0m             \u001b[0;32mif\u001b[0m \u001b[0mlen\u001b[0m\u001b[0;34m(\u001b[0m\u001b[0mne\u001b[0m\u001b[0;34m)\u001b[0m \u001b[0;34m==\u001b[0m \u001b[0;36m1\u001b[0m\u001b[0;34m:\u001b[0m\u001b[0;34m\u001b[0m\u001b[0m\n\u001b[0;32m---> 31\u001b[0;31m                 \u001b[0;32mif\u001b[0m \u001b[0;34m(\u001b[0m\u001b[0mne\u001b[0m\u001b[0;34m.\u001b[0m\u001b[0mnode\u001b[0m \u001b[0;34m==\u001b[0m \u001b[0;34m'GPE'\u001b[0m \u001b[0;32mor\u001b[0m \u001b[0mne\u001b[0m\u001b[0;34m.\u001b[0m\u001b[0mnode\u001b[0m \u001b[0;34m==\u001b[0m \u001b[0;34m'PERSON'\u001b[0m\u001b[0;34m)\u001b[0m \u001b[0;32mand\u001b[0m \u001b[0mne\u001b[0m\u001b[0;34m[\u001b[0m\u001b[0;36m0\u001b[0m\u001b[0;34m]\u001b[0m\u001b[0;34m[\u001b[0m\u001b[0;36m1\u001b[0m\u001b[0;34m]\u001b[0m \u001b[0;34m==\u001b[0m \u001b[0;34m'NNP'\u001b[0m\u001b[0;34m:\u001b[0m\u001b[0;34m\u001b[0m\u001b[0m\n\u001b[0m\u001b[1;32m     32\u001b[0m                     \u001b[0mself\u001b[0m\u001b[0;34m.\u001b[0m\u001b[0mplaces\u001b[0m\u001b[0;34m.\u001b[0m\u001b[0mappend\u001b[0m\u001b[0;34m(\u001b[0m\u001b[0mne\u001b[0m\u001b[0;34m[\u001b[0m\u001b[0;36m0\u001b[0m\u001b[0;34m]\u001b[0m\u001b[0;34m[\u001b[0m\u001b[0;36m0\u001b[0m\u001b[0;34m]\u001b[0m\u001b[0;34m)\u001b[0m\u001b[0;34m\u001b[0m\u001b[0m\n",
        "\u001b[0;32m/Users/datascientist/anaconda/lib/python2.7/site-packages/nltk/tree.pyc\u001b[0m in \u001b[0;36m_get_node\u001b[0;34m(self)\u001b[0m\n\u001b[1;32m    196\u001b[0m     \u001b[0;32mdef\u001b[0m \u001b[0m_get_node\u001b[0m\u001b[0;34m(\u001b[0m\u001b[0mself\u001b[0m\u001b[0;34m)\u001b[0m\u001b[0;34m:\u001b[0m\u001b[0;34m\u001b[0m\u001b[0m\n\u001b[1;32m    197\u001b[0m         \u001b[0;34m\"\"\"Outdated method to access the node value; use the label() method instead.\"\"\"\u001b[0m\u001b[0;34m\u001b[0m\u001b[0m\n\u001b[0;32m--> 198\u001b[0;31m         \u001b[0;32mraise\u001b[0m \u001b[0mNotImplementedError\u001b[0m\u001b[0;34m(\u001b[0m\u001b[0;34m\"Use label() to access a node label.\"\u001b[0m\u001b[0;34m)\u001b[0m\u001b[0;34m\u001b[0m\u001b[0m\n\u001b[0m\u001b[1;32m    199\u001b[0m     \u001b[0;32mdef\u001b[0m \u001b[0m_set_node\u001b[0m\u001b[0;34m(\u001b[0m\u001b[0mself\u001b[0m\u001b[0;34m,\u001b[0m \u001b[0mvalue\u001b[0m\u001b[0;34m)\u001b[0m\u001b[0;34m:\u001b[0m\u001b[0;34m\u001b[0m\u001b[0m\n\u001b[1;32m    200\u001b[0m         \u001b[0;34m\"\"\"Outdated method to set the node value; use the set_label() method instead.\"\"\"\u001b[0m\u001b[0;34m\u001b[0m\u001b[0m\n",
        "\u001b[0;31mNotImplementedError\u001b[0m: Use label() to access a node label."
       ]
      }
     ],
     "prompt_number": 34
    },
    {
     "cell_type": "code",
     "collapsed": false,
     "input": [
      "from geograpy import extraction\n",
      "\n",
      "e = extraction.Extractor(url='http://www.bbc.com/news/world-europe-26919928')\n",
      "e.find_entities()\n",
      "\n",
      "# You can now access all of the places found by the Extractor\n",
      "print e.places"
     ],
     "language": "python",
     "metadata": {},
     "outputs": [
      {
       "ename": "NotImplementedError",
       "evalue": "Use label() to access a node label.",
       "output_type": "pyerr",
       "traceback": [
        "\u001b[0;31m---------------------------------------------------------------------------\u001b[0m\n\u001b[0;31mNotImplementedError\u001b[0m                       Traceback (most recent call last)",
        "\u001b[0;32m<ipython-input-31-22e4a84bab62>\u001b[0m in \u001b[0;36m<module>\u001b[0;34m()\u001b[0m\n\u001b[1;32m      2\u001b[0m \u001b[0;34m\u001b[0m\u001b[0m\n\u001b[1;32m      3\u001b[0m \u001b[0me\u001b[0m \u001b[0;34m=\u001b[0m \u001b[0mextraction\u001b[0m\u001b[0;34m.\u001b[0m\u001b[0mExtractor\u001b[0m\u001b[0;34m(\u001b[0m\u001b[0murl\u001b[0m\u001b[0;34m=\u001b[0m\u001b[0;34m'http://www.bbc.com/news/world-europe-26919928'\u001b[0m\u001b[0;34m)\u001b[0m\u001b[0;34m\u001b[0m\u001b[0m\n\u001b[0;32m----> 4\u001b[0;31m \u001b[0me\u001b[0m\u001b[0;34m.\u001b[0m\u001b[0mfind_entities\u001b[0m\u001b[0;34m(\u001b[0m\u001b[0;34m)\u001b[0m\u001b[0;34m\u001b[0m\u001b[0m\n\u001b[0m\u001b[1;32m      5\u001b[0m \u001b[0;34m\u001b[0m\u001b[0m\n\u001b[1;32m      6\u001b[0m \u001b[0;31m# You can now access all of the places found by the Extractor\u001b[0m\u001b[0;34m\u001b[0m\u001b[0;34m\u001b[0m\u001b[0m\n",
        "\u001b[0;32m/Users/datascientist/anaconda/lib/python2.7/site-packages/geograpy/extraction.pyc\u001b[0m in \u001b[0;36mfind_entities\u001b[0;34m(self)\u001b[0m\n\u001b[1;32m     29\u001b[0m         \u001b[0;32mfor\u001b[0m \u001b[0mne\u001b[0m \u001b[0;32min\u001b[0m \u001b[0mnes\u001b[0m\u001b[0;34m:\u001b[0m\u001b[0;34m\u001b[0m\u001b[0m\n\u001b[1;32m     30\u001b[0m             \u001b[0;32mif\u001b[0m \u001b[0mlen\u001b[0m\u001b[0;34m(\u001b[0m\u001b[0mne\u001b[0m\u001b[0;34m)\u001b[0m \u001b[0;34m==\u001b[0m \u001b[0;36m1\u001b[0m\u001b[0;34m:\u001b[0m\u001b[0;34m\u001b[0m\u001b[0m\n\u001b[0;32m---> 31\u001b[0;31m                 \u001b[0;32mif\u001b[0m \u001b[0;34m(\u001b[0m\u001b[0mne\u001b[0m\u001b[0;34m.\u001b[0m\u001b[0mnode\u001b[0m \u001b[0;34m==\u001b[0m \u001b[0;34m'GPE'\u001b[0m \u001b[0;32mor\u001b[0m \u001b[0mne\u001b[0m\u001b[0;34m.\u001b[0m\u001b[0mnode\u001b[0m \u001b[0;34m==\u001b[0m \u001b[0;34m'PERSON'\u001b[0m\u001b[0;34m)\u001b[0m \u001b[0;32mand\u001b[0m \u001b[0mne\u001b[0m\u001b[0;34m[\u001b[0m\u001b[0;36m0\u001b[0m\u001b[0;34m]\u001b[0m\u001b[0;34m[\u001b[0m\u001b[0;36m1\u001b[0m\u001b[0;34m]\u001b[0m \u001b[0;34m==\u001b[0m \u001b[0;34m'NNP'\u001b[0m\u001b[0;34m:\u001b[0m\u001b[0;34m\u001b[0m\u001b[0m\n\u001b[0m\u001b[1;32m     32\u001b[0m                     \u001b[0mself\u001b[0m\u001b[0;34m.\u001b[0m\u001b[0mplaces\u001b[0m\u001b[0;34m.\u001b[0m\u001b[0mappend\u001b[0m\u001b[0;34m(\u001b[0m\u001b[0mne\u001b[0m\u001b[0;34m[\u001b[0m\u001b[0;36m0\u001b[0m\u001b[0;34m]\u001b[0m\u001b[0;34m[\u001b[0m\u001b[0;36m0\u001b[0m\u001b[0;34m]\u001b[0m\u001b[0;34m)\u001b[0m\u001b[0;34m\u001b[0m\u001b[0m\n",
        "\u001b[0;32m/Users/datascientist/anaconda/lib/python2.7/site-packages/nltk/tree.pyc\u001b[0m in \u001b[0;36m_get_node\u001b[0;34m(self)\u001b[0m\n\u001b[1;32m    196\u001b[0m     \u001b[0;32mdef\u001b[0m \u001b[0m_get_node\u001b[0m\u001b[0;34m(\u001b[0m\u001b[0mself\u001b[0m\u001b[0;34m)\u001b[0m\u001b[0;34m:\u001b[0m\u001b[0;34m\u001b[0m\u001b[0m\n\u001b[1;32m    197\u001b[0m         \u001b[0;34m\"\"\"Outdated method to access the node value; use the label() method instead.\"\"\"\u001b[0m\u001b[0;34m\u001b[0m\u001b[0m\n\u001b[0;32m--> 198\u001b[0;31m         \u001b[0;32mraise\u001b[0m \u001b[0mNotImplementedError\u001b[0m\u001b[0;34m(\u001b[0m\u001b[0;34m\"Use label() to access a node label.\"\u001b[0m\u001b[0;34m)\u001b[0m\u001b[0;34m\u001b[0m\u001b[0m\n\u001b[0m\u001b[1;32m    199\u001b[0m     \u001b[0;32mdef\u001b[0m \u001b[0m_set_node\u001b[0m\u001b[0;34m(\u001b[0m\u001b[0mself\u001b[0m\u001b[0;34m,\u001b[0m \u001b[0mvalue\u001b[0m\u001b[0;34m)\u001b[0m\u001b[0;34m:\u001b[0m\u001b[0;34m\u001b[0m\u001b[0m\n\u001b[1;32m    200\u001b[0m         \u001b[0;34m\"\"\"Outdated method to set the node value; use the set_label() method instead.\"\"\"\u001b[0m\u001b[0;34m\u001b[0m\u001b[0m\n",
        "\u001b[0;31mNotImplementedError\u001b[0m: Use label() to access a node label."
       ]
      }
     ],
     "prompt_number": 31
    },
    {
     "cell_type": "code",
     "collapsed": false,
     "input": [
      "from geograpy import places\n",
      "from geograpy.places import PlaceContext\n",
      "\n",
      "pc = places.PlaceContext(['Cleveland', 'Ohio', 'United States'])\n",
      "\n",
      "pc.set_countries()\n",
      "print pc.countries #['United States']\n",
      "\n",
      "pc.set_regions()\n",
      "print pc.regions #['Ohio']\n",
      "\n",
      "pc.set_cities()\n",
      "print pc.cities #['Cleveland']\n",
      "\n",
      "print pc.address_strings #['Cleveland, Ohio, United States']"
     ],
     "language": "python",
     "metadata": {},
     "outputs": [
      {
       "output_type": "stream",
       "stream": "stdout",
       "text": [
        "[]\n",
        "[]\n",
        "[u'Cleveland', u'Ohio']"
       ]
      },
      {
       "output_type": "stream",
       "stream": "stdout",
       "text": [
        "\n",
        "[]\n"
       ]
      }
     ],
     "prompt_number": 32
    },
    {
     "cell_type": "code",
     "collapsed": false,
     "input": [
      "from nltk.tag.stanford import NERTagger\n",
      "string = 'Galaxy Class Galaxy Class Nickname: Password: Guests, choose a good password \\\n",
      "            and a colour: Random Colour beigeblue violetbrowncyansky bluegoldgreengreyhot \\\n",
      "            pinklight bluelight greenlime greenmagentaoliveorangeorange redredroyal bluesea \\\n",
      "            green Ships Manifest - Currently, 61 chatter(s) aboard: _gabs_ &nbsp_place_holder; \\\n",
      "            ShrimpDick &nbsp_place_holder; Section&nbsp_place_holder;31 &nbsp_place_holder; \\\n",
      "            Lazarus &nbsp_place_holder; Lal &nbsp_place_holder; PrincessAura &nbsp_place_holder; \\\n",
      "            Bigben &nbsp_place_holder; &nbsp_place_holder; mcpedoman &nbsp_place_holder; \\\n",
      "            Arges &nbsp_place_holder; germany slipping &nbsp_place_holder; jimmy &nbsp_place_holder; \\\n",
      "            JeanMichel &nbsp_place_holder; lolinooo &nbsp_place_holder; dale &nbsp_place_holder; \\\n",
      "            nekopinsen &nbsp_place_holder; 123 &nbsp_place_holder; otoot &nbsp_place_holder; \\\n",
      "            bindosweet &nbsp_place_holder; Kofostomo &nbsp_place_holder; mrsulu &nbsp_place_holder;\\\n",
      "            thedude &nbsp_place_holder; poloch&nbsp_place_holder;lecken &nbsp_place_holder; \\\n",
      "            tomyiomi &nbsp_place_holder; dixontito &nbsp_place_holder; Hannes &nbsp_place_holder;\\\n",
      "            HoneyBooBoo &nbsp_place_holder; robbiej &nbsp_place_holder; dream &nbsp_place_holder;\\\n",
      "            Xorler &nbsp_place_holder; singleDad &nbsp_place_holder; dweli &nbsp_place_holder; \\\n",
      "            lolcity &nbsp_place_holder; diggs &nbsp_place_holder; asas &nbsp_place_holder; pooh \\\n",
      "            &nbsp_place_holder; Amsterdam gerop &nbsp_place_holder; reynolds &nbsp_place_holder; petrus \\\n",
      "            &nbsp_place_holder; yoman &nbsp_place_holder; wantjb &nbsp_place_holder; rooky \\\n",
      "            &nbsp_place_holder; helen05 &nbsp_place_holder; atish &nbsp_place_holder; buddyholly \\\n",
      "            &nbsp_place_holder; kilopop &nbsp_place_holder; newdaddy &nbsp_place_holder; \\\n",
      "            moimeme &nbsp_place_holder; hungarydubi &nbsp_place_holder; shadowww \\\n",
      "            &nbsp_place_holder; aceshigh &nbsp_place_holder; ausvice &nbsp_place_holder; \\\n",
      "            blab &nbsp_place_holder; llilvr &nbsp_place_holder; gena &nbsp_place_holder;\\\n",
      "           lolotte &nbsp_place_holder; Dirtydad &nbsp_place_holder; robsom &nbsp_place_holder;\\\n",
      "           Samsung_93 &nbsp_place_holder; cutiebear &nbsp_place_holder; doggie Attention Guests \\\n",
      "           During times when we are crew members only, please try one of our friends at: PlayPen \\\n",
      "           Chat NewCumers Chat'\n",
      "\n",
      "st = NERTagger('/usr/share/stanford-ner/classifiers/all.3class.distsim.crf.ser.gz',\n",
      "               '/usr/share/stanford-ner/stanford-ner.jar')"
     ],
     "language": "python",
     "metadata": {},
     "outputs": [],
     "prompt_number": 3
    },
    {
     "cell_type": "code",
     "collapsed": false,
     "input": [
      "from nltk.tokenize import word_tokenize\n",
      "tokenized = [word_tokenize(content.lower()) for content in string] \n",
      "#documents = ['\\n'.join(article['content']) for article in coll.find()]\n",
      "y = st.tag(string.split())\n",
      "y"
     ],
     "language": "python",
     "metadata": {},
     "outputs": []
    },
    {
     "cell_type": "code",
     "collapsed": false,
     "input": [
      "import nltk\n",
      "from newspaper import Article\n",
      "text = nltk.word_tokenize(string)\n",
      "text = nltk.word_tokenize('TEHRAN \u2014 The tensions between the United States and Israel over how \\\n",
      "to address Iran\u2019s nuclear program and a politically divisive speech Tuesday by Prime Minister \\\n",
      "Benjamin Netanyahu of Israel to the United States Congress are playing to an eager audience in \\\n",
      "Tehran. USA and the Netherlands'.decode('utf-8'))\n",
      "nes = nltk.ne_chunk(nltk.pos_tag(text))\n",
      "nes"
     ],
     "language": "python",
     "metadata": {},
     "outputs": [
      {
       "output_type": "stream",
       "stream": "stderr",
       "text": [
        "/Users/datascientist/anaconda/lib/python2.7/site-packages/IPython/core/formatters.py:239: FormatterWarning: Exception in image/png formatter: \n",
        "\n",
        "===========================================================================\n",
        "NLTK was unable to find the gs file!\n",
        "Use software specific configuration paramaters or set the PATH environment variable.\n",
        "===========================================================================\n",
        "  FormatterWarning,\n"
       ]
      },
      {
       "metadata": {},
       "output_type": "pyout",
       "prompt_number": 4,
       "text": [
        "Tree('S', [Tree('GPE', [(u'TEHRAN', 'NNP')]), (u'\\u2014', ':'), (u'The', 'DT'), (u'tensions', 'NNS'), (u'between', 'IN'), (u'the', 'DT'), Tree('GPE', [(u'United', 'NNP'), (u'States', 'NNPS')]), (u'and', 'CC'), Tree('GPE', [(u'Israel', 'NNP')]), (u'over', 'IN'), (u'how', 'WRB'), (u'to', 'TO'), (u'address', 'VB'), (u'Iran\\u2019s', 'JJ'), (u'nuclear', 'JJ'), (u'program', 'NN'), (u'and', 'CC'), (u'a', 'DT'), (u'politically', 'RB'), (u'divisive', 'JJ'), (u'speech', 'NN'), (u'Tuesday', 'NNP'), (u'by', 'IN'), (u'Prime', 'NNP'), (u'Minister', 'NNP'), Tree('PERSON', [(u'Benjamin', 'NNP'), (u'Netanyahu', 'NNP')]), (u'of', 'IN'), Tree('GPE', [(u'Israel', 'NNP')]), (u'to', 'TO'), (u'the', 'DT'), Tree('GPE', [(u'United', 'NNP'), (u'States', 'NNPS')]), Tree('ORGANIZATION', [(u'Congress', 'NNP')]), (u'are', 'VBP'), (u'playing', 'VBG'), (u'to', 'TO'), (u'an', 'DT'), (u'eager', 'NN'), (u'audience', 'NN'), (u'in', 'IN'), Tree('GPE', [(u'Tehran', 'NNP')]), (u'.', '.'), Tree('ORGANIZATION', [(u'USA', 'NNP')]), (u'and', 'CC'), (u'the', 'DT'), Tree('ORGANIZATION', [(u'Netherlands', 'NNPS')])])"
       ]
      }
     ],
     "prompt_number": 4
    },
    {
     "cell_type": "code",
     "collapsed": false,
     "input": [
      "from places import PlaceContext\n",
      "grammar = \"NP: {<DT>?<JJ>*<NN>}\"\n",
      "cp = nltk.RegexpParser(grammar)\n",
      "result = cp.parse(nes)\n",
      "print(result)\n",
      "#result.draw()\n",
      "\n",
      "places = []\n",
      "for ne in nes:\n",
      "    if type(ne) is nltk.tree.Tree:\n",
      "        if (ne.label()=='GPE' or ne.label()=='PERSON' or ne.label()=='ORGANIZATION'):\n",
      "            places.append(' '.join([i[0] for i in ne.leaves()]))\n",
      "\n",
      "\n",
      "        "
     ],
     "language": "python",
     "metadata": {},
     "outputs": [
      {
       "ename": "ImportError",
       "evalue": "cannot import name PlaceContext",
       "output_type": "pyerr",
       "traceback": [
        "\u001b[0;31m---------------------------------------------------------------------------\u001b[0m\n\u001b[0;31mImportError\u001b[0m                               Traceback (most recent call last)",
        "\u001b[0;32m<ipython-input-2-5d0e9244947f>\u001b[0m in \u001b[0;36m<module>\u001b[0;34m()\u001b[0m\n\u001b[0;32m----> 1\u001b[0;31m \u001b[0;32mfrom\u001b[0m \u001b[0mplaces\u001b[0m \u001b[0;32mimport\u001b[0m \u001b[0mPlaceContext\u001b[0m\u001b[0;34m\u001b[0m\u001b[0m\n\u001b[0m\u001b[1;32m      2\u001b[0m \u001b[0mgrammar\u001b[0m \u001b[0;34m=\u001b[0m \u001b[0;34m\"NP: {<DT>?<JJ>*<NN>}\"\u001b[0m\u001b[0;34m\u001b[0m\u001b[0m\n\u001b[1;32m      3\u001b[0m \u001b[0mcp\u001b[0m \u001b[0;34m=\u001b[0m \u001b[0mnltk\u001b[0m\u001b[0;34m.\u001b[0m\u001b[0mRegexpParser\u001b[0m\u001b[0;34m(\u001b[0m\u001b[0mgrammar\u001b[0m\u001b[0;34m)\u001b[0m\u001b[0;34m\u001b[0m\u001b[0m\n\u001b[1;32m      4\u001b[0m \u001b[0mresult\u001b[0m \u001b[0;34m=\u001b[0m \u001b[0mcp\u001b[0m\u001b[0;34m.\u001b[0m\u001b[0mparse\u001b[0m\u001b[0;34m(\u001b[0m\u001b[0mnes\u001b[0m\u001b[0;34m)\u001b[0m\u001b[0;34m\u001b[0m\u001b[0m\n\u001b[1;32m      5\u001b[0m \u001b[0;32mprint\u001b[0m\u001b[0;34m(\u001b[0m\u001b[0mresult\u001b[0m\u001b[0;34m)\u001b[0m\u001b[0;34m\u001b[0m\u001b[0m\n",
        "\u001b[0;31mImportError\u001b[0m: cannot import name PlaceContext"
       ]
      }
     ],
     "prompt_number": 2
    },
    {
     "cell_type": "code",
     "collapsed": false,
     "input": [
      "import geograpy2\n",
      "from geograpy2.extraction import Extractor\n",
      "url = 'http://wikitravel.org/en/europe'\n",
      "'''e = Extractor(url=url)\n",
      "e.find_entities()\n",
      "print e.places\n",
      "print \"--------------------------------------\"'''\n",
      "places = geograpy2.get_place_context(url=url)\n",
      "print places.names"
     ],
     "language": "python",
     "metadata": {},
     "outputs": [
      {
       "output_type": "stream",
       "stream": "stdout",
       "text": [
        "[u'Europe', u'Asia', u'Atlantic', u'Africa', u'Arctic', u'European', u'European', u'Europe', u'Europe', u'Caucasus', u'Asia', u'Russia', u'Turkey', u'Asian', u'UK', u'Ireland', u'Iceland', u'France', u'Italy', u'United Kingdom', u'Germany', u'Spain', u'Scandinavia', u'Poland', u'Portugal', u'Andorra', u'Lichtenstein', u'Luxembourg', u'Many European', u'European Union', u'Euro', u'EU', u'Schengen Agreement', u'Euro', u'Schengen', u'Euro', u'European Union', u'Amsterdam', u'Rembrandt', u'Athens', u'Acropolis', u'Western', u'Barcelona', u'Gaudi', u'Mediterranean', u'Berlin', u'Germany', u'Berlin Wall Istanbul', u'East', u'Britain', u'Moscow', u'Europe', u'France', u'Seine Prague', u'Vltava River Rome', u'Understand', u'Florence', u'European', u'Hellenic Greece', u'Hesiod', u'Kallinos', u'Europe', u'Romans', u'Rome', u'Europe', u'Roman Empire', u'France', u'Spain', u'North', u'Carolingian', u'Western', u'Europe', u'European', u'Christianity', u'Europe', u'European', u'Great Britain', u'Spain', u'Portugal', u'Russia', u'France', u'Netherlands', u'Asia', u'Japan', u'Thailand', u'Tibet', u'Antarctica', u'European Union Europe', u'National', u'EU', u'European Coal', u'Steel Community', u'ECSC', u'Belgium', u'West Germany', u'Luxembourg', u'France', u'Italy', u'Netherlands', u'Treaty', u'Rome', u'European Economic', u'EEC', u'European Commission', u'Ministers', u'European Parliament', u'Iron Curtain', u'Eastern Europe', u'Eastern', u'Europe', u'Soviet Union', u'EU', u'Denmark', u'Ireland', u'United Kingdom', u'Greece', u'Spain', u'Portugal', u'Austria', u'Finland', u'Sweden', u'Norway', u'Switzerland', u'EU', u'EU', u'Currently', u'San Marino', u'Vatican', u'Monaco', u'Andorra', u'Montenegro', u'EU', u'EU', u'Cyprus', u'Czech Republic', u'Estonia', u'Hungary', u'Latvia', u'Lithuania', u'Malta', u'Poland', u'Slovakia', u'Slovenia', u'Bulgaria', u'Romania', u'Croatia', u'Albania', u'Iceland', u'Macedonia', u'Montenegro', u'Serbia', u'Turkey', u'Geography', u'Europe Europe', u'Eurasian', u'Arctic Ocean', u'Nordkapp', u'Atlantic Ocean', u'Europe', u'Ural', u'Caucasus Mountains', u'Caspian', u'Black Seas', u'Bosporus Strait', u'Cyprus', u'Europe', u'Europe', u'Europe', u'Russia', u'Elbrus', u'Caucasus Mountains', u'Western Europe', u'Mont Blanc', u'Pyrenees', u'France', u'Spain', u'Central Europe', u'Baltic Seas', u'Low Countries', u'Northern Germany', u'Denmark', u'Baltic Seas', u'Europe', u'Volga', u'Russia', u'Caspian', u'Danube', u'Rhine', u'Roman Empire', u'Danube', u'Black Forest', u'Germany', u'Bratislava', u'Budapest', u'Belgrade', u'Rhine', u'Swiss Alps', u'Rhine Falls', u'Europe', u'Netherlands', u'Rhine', u'Rhine Valley', u'Climate', u'Cape Ta\\u015fl\\u0131k', u'Mediterranean', u'Antalya Europe', u'US', u'Gulf Stream', u'Europe', u'Barents Sea', u'Arctic Ocean', u'Extreme', u'Russia', u'Europe', u'Alps', u'Adriatic Sea', u'Slovenia', u'Greece', u'Spain', u'British Isles', u'Norway', u'Bergen', u'Europe', u'Atlantic', u'British Isles', u'Benelux', u'Germany', u'France', u'Scandinavia', u'Europe', u'August', u'British Isles', u'Benelux', u'Germany', u'France', u'Europe', u'Mediterranean', u'Europe', u'Highest', u'Budapest', u'Barcelona', u'Rome', u'Athens', u'Alanya', u'Turkish Riviera', u'Europe', u'Mediterranean', u'Andalucia', u'Spain', u'Greek Islands', u'Turkish Riviera', u'Western Europe', u'Berlin', u'Russia', u'Moscow', u'Saint Petersburg', u'Network', u'European', u'Meteorological Services', u'EU', u'Europe', u'European Union', u'EU', u'European Union', u'Buy', u'EU', u'Likewise', u'EU', u'Schengen', u'Country Symbol Currency EU', u'Schengen', u'Time', u'Eurail', u'InterRail Albania', u'ALL', u'CET', u'Andorra AND', u'EUR', u'Armenia ARM', u'CET', u'Belarus BY', u'EET', u'Belgium B', u'CET', u'Bosnia', u'Herzegovina BIH', u'CET', u'Bulgaria BG', u'EET', u'Croatia HR', u'CET', u'Cyprus CY', u'CET', u'Czech Republic CZ', u'CET', u'Denmark DK', u'CET', u'Estonia EST', u'EET', u'Finland FIN', u'EET', u'France F', u'CET', u'Germany D', u'CET', u'Greece GR', u'EET', u'Hungary H', u'CET', u'Iceland IS', u'WET', u'Ireland IRL', u'WET', u'Italy', u'CET', u'Latvia LV', u'EET', u'Liechtenstein FL', u'CET', u'Lithuania LT', u'EET', u'Luxembourg L', u'CET', u'Macedonia MK', u'CET', u'Malta M', u'CET', u'Moldova MD', u'MDL', u'EET', u'Monaco MC', u'Montenegro MNE', u'EUR', u'CET', u'Netherlands NL', u'CET', u'Norway N', u'CET', u'Poland PL', u'CET', u'Portugal P', u'WET', u'Romania RO', u'EET', u'Russia RU', u'MSK4', u'San Marino RSM', u'Serbia SRB', u'CET', u'Kosovo6 RKS', u'EUR', u'CET', u'Slovakia SK', u'CET', u'Slovenia SLO', u'CET', u'Spain E', u'EUR', u'CET', u'Sweden S', u'CET', u'Switzerland CH', u'CHF', u'CET', u'Turkey TR', u'TRY', u'EET', u'Ukraine UA', u'EET', u'United', u'Kingdom GB', u'WET', u'Vatican City V', u'WEST', u'CET', u'EET', u'Russia', u'Kaliningrad Oblast', u'MSK', u'Moscow', u'Chukotka', u'Kamchatka', u'Schengen', u'Schengen', u'Germany-Poland', u'Poland', u'Schengen Area', u'Schengen', u'Belgium', u'Czech Republic', u'Denmark', u'Estonia', u'Finland', u'France', u'Germany', u'Greece', u'Hungary', u'Iceland', u'Italy', u'Latvia', u'Liechtenstein', u'Lithuania', u'Luxembourg', u'Malta', u'Netherlands', u'Norway', u'Poland', u'Portugal', u'Slovakia', u'Slovenia', u'Spain', u'Sweden', u'Switzerland', u'Rules', u'Europe', u'Russia', u'Belarus', u'Caucasus', u'Schengen', u'Schengen', u'Travel', u'Schengen Zone', u'Schengen', u'Andorra', u'Antigua', u'Barbuda', u'Argentina', u'Australia', u'Bahamas', u'Barbados', u'Bosnia', u'Brazil', u'Brunei', u'Canada', u'Chile', u'Costa Rica', u'El Salvador', u'Guatemala', u'Honduras', u'Israel', u'Japan', u'Malaysia', u'Mauritius', u'Mexico', u'Monaco', u'New Zealand', u'Nicaragua', u'Panama', u'Paraguay', u'Saint Kitts', u'Nevis', u'San Marino', u'Seychelles', u'Singapore', u'South Korea', u'Switzerland', u'Republic', u'China', u'United States', u'Uruguay', u'Vatican City', u'Venezuela', u'British', u'National', u'Hong Kong', u'Macau SAR', u'Schengen Area', u'Schengen Area', u'Australian', u'New Zealand', u'Schengen', u'New Zealand', u'British', u'United Kingdom', u'British', u'Gibraltar', u'United Kingdom', u'European', u'Union', u'Schengen Area', u'United Kingdom', u'British', u'Gibraltar', u'United Kingdom', u'European', u'Union', u'Schengen Area', u'British', u'United Kingdom', u'British', u'United Kingdom', u'British', u'British', u'British', u'Overseas Territories', u'Cyprus Sovereign Base', u'British', u'Schengen Area', u'Further', u'Albania', u'Bosnia', u'Herzegovina', u'Macedonia', u'Montenegro', u'Serbia', u'Serbian', u'Serbian', u'Kosovo', u'Serbian', u'Taiwan', u'Europe', u'Germany', u'Italy', u'Schengen', u'Bulgaria', u'Romania', u'Ireland', u'United Kingdom', u'EU', u'Schengen Area', u'Switzerland', u'Liechtenstein', u'Iceland', u'Norway', u'EU', u'Schengen', u'EU', u'EU', u'Schengen', u'EU', u'Europe', u'London', u'LHR', u'LGW', u'STN', u'LTN', u'Frankfurt', u'HHN', u'Paris', u'CDG', u'ORY', u'Madrid', u'Brussels', u'BRU', u'Amsterdam', u'AMS', u'Europe', u'European', u'VIE', u'Middle East', u'Eastern Europe', u'Helsinki', u'HEL', u'East Asia', u'Beijing', u'Vladivostok', u'Moscow', u'Kazakhstan', u'China', u'Historic Silk Road', u'Almaty', u'Urumqi', u'Almaty', u'Moscow', u'Turkish', u'TCDD', u'Istanbul', u'Ankara', u'Tehran', u'Iran', u'Damascus', u'Baghdad', u'United Kingdom', u'United States', u'Ocean Liner', u'Cunard Line', u'Southampton', u'New York', u'Freighter', u'Europe', u'Latin America', u'MSC', u'Europe', u'Mediterranean', u'North Africa', u'Tangier', u'Morocco', u'Tunis', u'Tunisia', u'See Ferries', u'Mediterranean', u'Cyprus', u'Louis Cruises', u'Port Said', u'Egypt', u'Haifa', u'Israel', u'Cyprus', u'Varianos Travel', u'Nicosia', u'Ryanair', u'Europe', u'Schengen Agreement', u'Likewise', u'EU', u'Schengen', u'European Union', u'Travel', u'Schengen Zone', u'Europe', u'Europe', u'Schengen Area', u'Schengen', u'EU', u'Travel', u'Schengen', u'Schengen', u'Germany', u'France', u'EU', u'Germany', u'Switzerland', u'Switzerland', u'EU', u'EU', u'France', u'United Kingdom', u'EU', u'Schengen', u'Schengen', u'Switzerland', u'United Kingdom', u'EU', u'EU', u'German', u'Main', u'Europe', u'Western', u'Central Europe', u'Italian Frecciarossa', u'French', u'TGV', u'German', u'Spanish', u'Eurostar', u'Thalys', u'Inter Rail', u'Europeans', u'Eurail', u'Europe', u'Beware', u'DB German', u'European Union', u'EU', u'EU', u'EU', u'EU', u'Denied Boarding If', u'Refund', u'European Union', u'US Fl Oz', u'US Oz', u'Main', u'Europe', u'Europe', u'AirBerlin', u'Germanwings', u'EasyJet', u'Tuifly', u'Ryanair', u'WizzAir', u'British Airways', u'Austrian Airlines', u'Lufthansa', u'Dublin', u'Istanbul', u'Wizzair', u'International', u'Ecotourism', u'EU', u'Eurolines', u'Eurolines', u'Europe', u'Morocco', u'Eurolines', u'Sicily', u'Helsinki', u'Casablanca', u'Moscow', u'Eurolines', u'Alicante', u'Amsterdam', u'Barcelona', u'Berlin', u'Bordeaux', u'Bratislava', u'Brno', u'Brussels', u'Bucharest', u'Budapest', u'Cologne', u'Copenhagen', u'Dijon', u'Dublin', u'Edinburgh', u'Florence', u'Frankfurt', u'Geneva', u'Gothenburg', u'Hamburg', u'Kaunas', u'Kosice', u'Lille', u'London', u'Lyon', u'Madrid', u'Marseille', u'Milan', u'Montpellier', u'Munich', u'Nancy', u'Nantes', u'Nice', u'Oslo', u'Paris', u'Prague', u'Rennes', u'Riga', u'Rome', u'Stockholm', u'Strasbourg', u'Stuttgart', u'Toulouse', u'Tours', u'Venice', u'Vilnius', u'Zurich', u'Germany', u'National Express', u'UK', u'Megabus', u'UK', u'Ireland', u'France', u'Belgium', u'Netherlands', u'Germany', u'Spain', u'Often', u'Europe', u'iDBUS', u'SNCF', u'French', u'iDBUS', u'France', u'Italy', u'Belgium', u'Netherlands', u'UK', u'PolskiBus', u'Poland', u'Berlin', u'Prague', u'Bratislava', u'Student Agency', u'Prague', u'Europe', u'Various Eastern European', u'Eastern European', u'Baltic', u'Gdansk', u'Stockholm', u'Helsinki', u'Tallinn', u'Riga', u'Atlantic', u'Smyril Line', u'North Atlantic', u'Iceland', u'Faroe Islands', u'Denmark', u'Norway', u'Sweden', u'British', u'English', u'France', u'Channel Tunnel', u'Denmark', u'Benelux', u'Bay', u'Biscay', u'Spain', u'Further', u'Portim\\xe3o', u'Canary Islands', u'Madeira', u'Spain', u'Italy', u'Italian', u'Adriatic', u'Croatia', u'Greece', u'Bari', u'Poti', u'Istanbul', u'Rhine', u'Danube', u'Volga', u'Europe', u'Mediterranean', u'Hurtigruten', u'Norway', u'UK', u'Stop Give Way', u'Yield Priority Street Priority Street', u'European', u'Western European', u'Eastern European', u'Christmas', u'Germany', u'Stau', u'Europabr\\xfccke', u'Europe', u'Wipp', u'Innsbruck', u'German', u'North Americans', u'Except', u'North America', u'Bicycles', u'Europe', u'Avoid', u'London', u'Paris', u'Rome', u'Athens', u'Belgrade', u'Moscow', u'Europe', u'Park', u'Ride', u'EU', u'Portugal', u'Ireland', u'UK', u'EU', u'Portugal', u'Ireland', u'UK', u'Austria', u'Belgium', u'Bulgaria', u'Croatia', u'France', u'Germany', u'Italy', u'Norway', u'Portugal', u'Spain', u'Headlamp Adjusters', u'Ireland', u'Paperwork Original', u'EU', u'European', u'Safety Most', u'Europe', u'Scandinavia', u'Germany', u'Beware', u'North America', u'Europe', u'Europe', u'Russia', u'North America', u'USD70', u'Paris', u'Brussels', u'Amsterdam', u'European', u'Eurovelo', u'Rivers Route', u'Prins Bernardplein', u'Europe', u'Eastern', u'English', u'Yugoslavia', u'Croatia', u'Serbia', u'Between Croatia', u'Moldova', u'Romania', u'Ukraine', u'Netherlands', u'Germany', u'Dutch', u'German', u'Talk', u'English', u'United Kingdom', u'Ireland', u'Gibraltar', u'Cyprus', u'Malta', u'Netherlands', u'Scandinavia', u'English', u'Austria', u'German', u'Switzerland', u'Flanders', u'Belgium', u'English', u'English', u'German', u'Russian', u'German', u'Dutch', u'Scandinavian', u'Latin', u'Romance', u'Portugal', u'Spain', u'France', u'Italy', u'Romania', u'Slavic', u'East', u'English', u'Scandinavia', u'German', u'Dutch', u'English', u'See', u'Europe', u'Europe', u'Europe', u'Colosseum', u'Eiffel Tower', u'Big Ben', u'Europe', u'Ancient Greece', u'Western', u'European', u'Ancient Greek', u'Greece', u'Turkey', u'Delphi', u'Olympia', u'Sparta', u'Ephesus', u'Lycia', u'Parthenon', u'Athens', u'Ancient Greece', u'Roman Empire', u'Europe', u'Middle East', u'Rome', u'Colosseum', u'Pantheon', u'Roman Forum', u'Spain', u'Merida', u'Italica', u'Segovia', u'Toledo', u'Terragona', u'Italy', u'UNESCO', u'Spain', u'Rail', u'Music', u'United States', u'Europe', u'Opera', u'European', u'Europe', u'Roskilde Festival', u'Roskilde', u'Sziget', u'Budapest', u'England', u'Poland', u'Woodstock', u'European', u'Europe', u'European', u'Football', u'Europe', u'Europa League', u'European', u'Europe', u'European', u'European Euroleague', u'Europe', u'European', u'NBA', u'European', u'Europe', u'European', u'NBA', u'Handball Also', u'European', u'Europe', u'European', u'Europe', u'Europe', u'Praia', u'Italy', u'France', u'Giro', u'Espa\\xf1a', u'Europe', u'France', u'Espa\\xf1a', u'Volleyball', u'European Volleyball', u'European Volleyball', u'Europe', u'Turkey', u'Interlaken', u'Switzerland', u'Praia', u'Italy', u'American', u'Europe', u'Europe', u'Austria', u'Switzerland', u'France', u'Italy', u'Slovenia', u'Germany', u'Les', u'Soleil', u'Switzerland', u'France', u'Alps', u'Scandinavian Mountains', u'\\xc5re', u'Scotland', u'Nevis Range', u'Glenshee', u'Sierra Nevada', u'Spain', u'May', u'North', u'Pyrenees', u'France', u'Andorra', u'Domaine Tourmalet', u'Eastern Europe', u'Europe', u'Slovenia', u'Kranjska Gora', u'Carpathian', u'Poiana Brasov', u'Romania', u'Zakopane', u'Poland', u'Jasna', u'National Parks', u'Europe', u'Vatnajokull National Park', u'Iceland', u'Arctic Svalbard', u'Yugyd Va National Park', u'Russian', u'Europe', u'Europe', u'Europe', u'Buy', u'Euro Currency', u'US', u'Swiss', u'Norwegian', u'Swedish', u'Danish Krone', u'Turkish', u'Eurozone', u'Symbol', u'ISO', u'European Union', u'US', u'Rest', u'Eurozone', u'EU', u'Eurozone', u'EU', u'Denmark', u'United Kingdom', u'EU', u'Europe', u'EU', u'Andorra', u'Kosovo', u'Monaco', u'Montenegro', u'San Marino', u'Vatican', u'Kosovo', u'Montenegro', u'Andorra', u'Europe', u'Euros', u'European', u'Eurozone', u'European', u'Eurozone', u'Croatia', u'Serbia', u'Europe', u'European', u'European', u'United States', u'Eastern Europe', u'VISA', u'MasterCard', u'UK', u'France', u'Norway', u'Sweden', u'Europe', u'VISA', u'MasterCard', u'Europe', u'AmEx', u'MasterCard', u'VISA', u'European', u'UK', u'France', u'Netherlands', u'Belgium', u'Nordic', u'PIN', u'PIN', u'Visa', u'MasterCard', u'Amex', u'PIN', u'Exchange', u'Canada', u'China', u'Europe', u'European', u'European Union', u'ATM', u'EU', u'VAT', u'VAT', u'EU', u'VAT', u'Global Blue', u'EU', u'Eat', u'Drink', u'Europe', u'Scandinavia', u'Denmark', u'Europe', u'Eastern European', u'Except', u'British Isles', u'Europe', u'France', u'European', u'France', u'Italy', u'Spain', u'Germany', u'Portugal', u'European', u'Minoan', u'Greece', u'Europe', u'Romans', u'Unlike', u'European', u'Europe', u'Chardonnay', u'European', u'Europe', u'Bordeaux', u'French', u'Burgundy', u'Bourgogne', u'Dijon', u'Burgundies', u'Pinot Noir', u'Chardonnay', u'Further', u'Alsace', u'Germany', u'Mosel', u'Further', u'Tuscany', u'Italy', u'Chianti', u'Sangiovese', u'La Rioja', u'Spanish', u'EU', u'Champagne', u'France', u'Port', u'Porto', u'Portugal', u'Sherry', u'Jerez', u'Spain', u'Tokaji', u'Tokaj', u'Hungary', u'Beer', u'Western', u'Germany', u'Netherlands', u'Belgium', u'Czech Republic', u'Europe', u'East Asia', u'North America', u'European', u'Europe', u'Pilsner', u'Czech', u'Pilsen', u'Czech', u'Pilsen', u'United Kingdom', u'Ireland', u'Belgian', u'Germany', u'Belgium', u'Netherlands', u'German', u'Belgian', u'Hoegaarden', u'Germany', u'Belgium', u'Netherlands', u'German', u'Belgian', u'Hoegaarden', u'British', u'Irish', u'Guinness', u'Made', u'Carlsberg', u'Heineken', u'Stella', u'German', u'Munich Oktoberfest', u'European', u'Taste', u'Vodka', u'Rum', u'Gin', u'Scandinavia', u'Denmark', u'Eastern Europe', u'Russia', u'Vodka', u'Smirnoff', u'Absolut', u'Slivovitz', u'Rakia', u'Europe', u'Serbia', u'Brandy', u'Cognac', u'Port', u'UK', u'Europe', u'Greece', u'Italy', u'Absinthe', u'Schnapps', u'Snaps', u'Aquavit', u'Whiskey', u'Whisky', u'Irish', u'Sleep', u'Stay', u'EU', u'European', u'EU', u'English', u'SIM', u'Europe', u'European', u'Europe', u'European', u'United States', u'Britain', u'France', u'Europe', u'Europe', u'Central', u'Europe', u'Common', u'Europe', u'European Health Insurance Card', u'EHIC', u'European Union', u'Norway', u'Switzerland', u'Lichtenstein', u'EHIC', u'EU', u'Schengen']\n"
       ]
      }
     ],
     "prompt_number": 105
    },
    {
     "cell_type": "code",
     "collapsed": false,
     "input": [
      "import os\n",
      "import csv\n",
      "import pycountry\n",
      "import sqlite3\n",
      "from collections import Counter\n",
      "from fuzzywuzzy import fuzz\n",
      "\n",
      "def correct_country_mispelling(s):\n",
      "        with open(\"data/ISO3166ErrorDictionary.csv\", \"rb\") as info:\n",
      "            reader = csv.reader(info)\n",
      "            for row in reader:\n",
      "                if fuzz.ratio(s, row[0].decode('utf-8')) > 75:\n",
      "                #if s in row[0].decode('utf-8'):\n",
      "                    return row[2]\n",
      "\n",
      "        return s\n",
      "\n",
      "def is_a_country2(s): \n",
      "    s = correct_country_mispelling(s)\n",
      "    try:\n",
      "        pycountry.countries.get(name=s)\n",
      "        return True\n",
      "    except KeyError, e:\n",
      "        return False\n",
      "\n",
      "countries = set([correct_country_mispelling(place) for place in set(places.names) if is_a_country2(place)])\n",
      "        "
     ],
     "language": "python",
     "metadata": {},
     "outputs": [],
     "prompt_number": 109
    },
    {
     "cell_type": "code",
     "collapsed": false,
     "input": [
      "countries"
     ],
     "language": "python",
     "metadata": {},
     "outputs": [
      {
       "metadata": {},
       "output_type": "pyout",
       "prompt_number": 110,
       "text": [
        "{u'Albania',\n",
        " u'Andorra',\n",
        " u'Antarctica',\n",
        " u'Argentina',\n",
        " u'Australia',\n",
        " u'Austria',\n",
        " u'Bahamas',\n",
        " u'Barbados',\n",
        " u'Belarus',\n",
        " u'Belgium',\n",
        " 'Bosnia and Herzegovina',\n",
        " u'Brazil',\n",
        " 'Brunei Darussalam',\n",
        " u'Bulgaria',\n",
        " u'Canada',\n",
        " u'Chile',\n",
        " u'China',\n",
        " u'Costa Rica',\n",
        " u'Croatia',\n",
        " u'Cyprus',\n",
        " 'Czech Republic',\n",
        " u'Denmark',\n",
        " u'Egypt',\n",
        " u'El Salvador',\n",
        " u'Estonia',\n",
        " 'Faroe Islands',\n",
        " u'Finland',\n",
        " u'France',\n",
        " u'Germany',\n",
        " u'Gibraltar',\n",
        " u'Greece',\n",
        " u'Guatemala',\n",
        " u'Honduras',\n",
        " 'Hong Kong',\n",
        " u'Hungary',\n",
        " u'Iceland',\n",
        " 'Iran, Islamic Republic of',\n",
        " u'Ireland',\n",
        " u'Israel',\n",
        " u'Italy',\n",
        " u'Japan',\n",
        " u'Kazakhstan',\n",
        " u'Latvia',\n",
        " u'Liechtenstein',\n",
        " u'Lithuania',\n",
        " u'Luxembourg',\n",
        " 'Macao',\n",
        " 'Macedonia, Republic of',\n",
        " u'Malaysia',\n",
        " u'Malta',\n",
        " u'Mauritius',\n",
        " u'Mexico',\n",
        " 'Moldova, Republic of',\n",
        " u'Monaco',\n",
        " u'Montenegro',\n",
        " u'Morocco',\n",
        " u'Netherlands',\n",
        " u'New Zealand',\n",
        " u'Nicaragua',\n",
        " u'Norway',\n",
        " u'Panama',\n",
        " u'Paraguay',\n",
        " u'Poland',\n",
        " u'Portugal',\n",
        " u'Romania',\n",
        " 'Russian Federation',\n",
        " 'Saint Kitts and Nevis',\n",
        " u'San Marino',\n",
        " u'Serbia',\n",
        " u'Seychelles',\n",
        " u'Singapore',\n",
        " u'Slovakia',\n",
        " u'Slovenia',\n",
        " u'Spain',\n",
        " u'Sweden',\n",
        " u'Switzerland',\n",
        " u'Thailand',\n",
        " u'Tunisia',\n",
        " u'Turkey',\n",
        " u'Ukraine',\n",
        " u'United Kingdom',\n",
        " u'United States',\n",
        " u'Uruguay'}"
       ]
      }
     ],
     "prompt_number": 110
    },
    {
     "cell_type": "code",
     "collapsed": false,
     "input": [
      "pycountry.countries.get(name=\"Yosemite National Park\")"
     ],
     "language": "python",
     "metadata": {},
     "outputs": [
      {
       "ename": "KeyError",
       "evalue": "'Yosemite National Park'",
       "output_type": "pyerr",
       "traceback": [
        "\u001b[0;31m---------------------------------------------------------------------------\u001b[0m\n\u001b[0;31mKeyError\u001b[0m                                  Traceback (most recent call last)",
        "\u001b[0;32m<ipython-input-88-310355f1b451>\u001b[0m in \u001b[0;36m<module>\u001b[0;34m()\u001b[0m\n\u001b[0;32m----> 1\u001b[0;31m \u001b[0mpycountry\u001b[0m\u001b[0;34m.\u001b[0m\u001b[0mcountries\u001b[0m\u001b[0;34m.\u001b[0m\u001b[0mget\u001b[0m\u001b[0;34m(\u001b[0m\u001b[0mname\u001b[0m\u001b[0;34m=\u001b[0m\u001b[0;34m\"Yosemite National Park\"\u001b[0m\u001b[0;34m)\u001b[0m\u001b[0;34m\u001b[0m\u001b[0m\n\u001b[0m",
        "\u001b[0;32m/Users/datascientist/anaconda/lib/python2.7/site-packages/pycountry/db.pyc\u001b[0m in \u001b[0;36mget\u001b[0;34m(self, **kw)\u001b[0m\n\u001b[1;32m    112\u001b[0m         \u001b[0;32massert\u001b[0m \u001b[0mlen\u001b[0m\u001b[0;34m(\u001b[0m\u001b[0mkw\u001b[0m\u001b[0;34m)\u001b[0m \u001b[0;34m==\u001b[0m \u001b[0;36m1\u001b[0m\u001b[0;34m,\u001b[0m \u001b[0;34m'Only one criteria may be given.'\u001b[0m\u001b[0;34m\u001b[0m\u001b[0m\n\u001b[1;32m    113\u001b[0m         \u001b[0mfield\u001b[0m\u001b[0;34m,\u001b[0m \u001b[0mvalue\u001b[0m \u001b[0;34m=\u001b[0m \u001b[0mkw\u001b[0m\u001b[0;34m.\u001b[0m\u001b[0mpopitem\u001b[0m\u001b[0;34m(\u001b[0m\u001b[0;34m)\u001b[0m\u001b[0;34m\u001b[0m\u001b[0m\n\u001b[0;32m--> 114\u001b[0;31m         \u001b[0;32mreturn\u001b[0m \u001b[0mself\u001b[0m\u001b[0;34m.\u001b[0m\u001b[0mindices\u001b[0m\u001b[0;34m[\u001b[0m\u001b[0mfield\u001b[0m\u001b[0;34m]\u001b[0m\u001b[0;34m[\u001b[0m\u001b[0mvalue\u001b[0m\u001b[0;34m]\u001b[0m\u001b[0;34m\u001b[0m\u001b[0m\n\u001b[0m",
        "\u001b[0;31mKeyError\u001b[0m: 'Yosemite National Park'"
       ]
      }
     ],
     "prompt_number": 88
    },
    {
     "cell_type": "code",
     "collapsed": false,
     "input": [
      "countries = [[correct_country_mispelling(place),place] for place in ['United States']]\n",
      "countries"
     ],
     "language": "python",
     "metadata": {},
     "outputs": [
      {
       "metadata": {},
       "output_type": "pyout",
       "prompt_number": 75,
       "text": [
        "[['US Miscellaneous Pacific Islands', 'United States']]"
       ]
      }
     ],
     "prompt_number": 75
    },
    {
     "cell_type": "code",
     "collapsed": false,
     "input": [
      "countries"
     ],
     "language": "python",
     "metadata": {},
     "outputs": [
      {
       "metadata": {},
       "output_type": "pyout",
       "prompt_number": 71,
       "text": [
        "['United States']"
       ]
      }
     ],
     "prompt_number": 71
    },
    {
     "cell_type": "code",
     "collapsed": false,
     "input": [],
     "language": "python",
     "metadata": {},
     "outputs": []
    }
   ],
   "metadata": {}
  }
 ]
}