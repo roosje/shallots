{
 "metadata": {
  "name": "",
  "signature": "sha256:fdf959942975212cb17ccc755a72816e83b807e37a9bac03d6e863ae0d8d6053"
 },
 "nbformat": 3,
 "nbformat_minor": 0,
 "worksheets": [
  {
   "cells": [
    {
     "cell_type": "code",
     "collapsed": false,
     "input": [
      "ls"
     ],
     "language": "python",
     "metadata": {},
     "outputs": [
      {
       "output_type": "stream",
       "stream": "stdout",
       "text": [
        "googleonionscrape.ipynb  oniondomainsgoogle.txt   oniondomainsgoogle2.txt\r\n"
       ]
      }
     ],
     "prompt_number": 4
    },
    {
     "cell_type": "code",
     "collapsed": false,
     "input": [
      "with open('oniondomainsgoogle2.txt') as f:\n",
      "    for i, l in enumerate(f):\n",
      "        pass\n",
      "    print i+1\n",
      "   "
     ],
     "language": "python",
     "metadata": {},
     "outputs": [
      {
       "output_type": "stream",
       "stream": "stdout",
       "text": [
        "8121\n"
       ]
      }
     ],
     "prompt_number": 5
    },
    {
     "cell_type": "code",
     "collapsed": false,
     "input": [],
     "language": "python",
     "metadata": {},
     "outputs": []
    }
   ],
   "metadata": {}
  }
 ]
}